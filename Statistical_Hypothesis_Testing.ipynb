{
  "nbformat": 4,
  "nbformat_minor": 0,
  "metadata": {
    "colab": {
      "provenance": [],
      "authorship_tag": "ABX9TyO5xrVaHnmXgGQTyrwjWwIa",
      "include_colab_link": true
    },
    "kernelspec": {
      "name": "python3",
      "display_name": "Python 3"
    },
    "language_info": {
      "name": "python"
    }
  },
  "cells": [
    {
      "cell_type": "markdown",
      "metadata": {
        "id": "view-in-github",
        "colab_type": "text"
      },
      "source": [
        "<a href=\"https://colab.research.google.com/github/Magero-Steven/Research-Analysis/blob/main/Statistical_Hypothesis_Testing.ipynb\" target=\"_parent\"><img src=\"https://colab.research.google.com/assets/colab-badge.svg\" alt=\"Open In Colab\"/></a>"
      ]
    },
    {
      "cell_type": "markdown",
      "source": [
        "# **StatisticalHypothesis Testing in Python**"
      ],
      "metadata": {
        "id": "-BZQx2uurTce"
      }
    },
    {
      "cell_type": "markdown",
      "source": [
        "### **Import needed files and libries for working with data sets**"
      ],
      "metadata": {
        "id": "an59qu3nwn3N"
      }
    },
    {
      "cell_type": "code",
      "source": [
        "import pandas as pd\n",
        "import numpy as np\n",
        "from scipy import stats\n",
        "import statsmodels.api as sm\n",
        "import statsmodels.formula.api as smf\n",
        "\n",
        "\n",
        "\n",
        "from google.colab import files\n",
        "\n",
        "# Upload the CSV file\n",
        "# Upload the CSV file and specify the filename\n",
        "uploaded = files.upload()\n",
        "file_name = list(uploaded.keys())[0] # Get the name of the uploaded file\n",
        "\n",
        "# Read the uploaded CSV file into a pandas DataFrame\n",
        "import io\n",
        "df = pd.read_csv(io.BytesIO(uploaded[file_name]))"
      ],
      "metadata": {
        "colab": {
          "base_uri": "https://localhost:8080/",
          "height": 74
        },
        "id": "BQxrn36_raTu",
        "outputId": "f53b37da-01ce-4d5b-ddb6-1d57c1995c93"
      },
      "execution_count": 9,
      "outputs": [
        {
          "output_type": "display_data",
          "data": {
            "text/plain": [
              "<IPython.core.display.HTML object>"
            ],
            "text/html": [
              "\n",
              "     <input type=\"file\" id=\"files-92e3e4f6-0eea-4341-a48f-358b817a87b8\" name=\"files[]\" multiple disabled\n",
              "        style=\"border:none\" />\n",
              "     <output id=\"result-92e3e4f6-0eea-4341-a48f-358b817a87b8\">\n",
              "      Upload widget is only available when the cell has been executed in the\n",
              "      current browser session. Please rerun this cell to enable.\n",
              "      </output>\n",
              "      <script>// Copyright 2017 Google LLC\n",
              "//\n",
              "// Licensed under the Apache License, Version 2.0 (the \"License\");\n",
              "// you may not use this file except in compliance with the License.\n",
              "// You may obtain a copy of the License at\n",
              "//\n",
              "//      http://www.apache.org/licenses/LICENSE-2.0\n",
              "//\n",
              "// Unless required by applicable law or agreed to in writing, software\n",
              "// distributed under the License is distributed on an \"AS IS\" BASIS,\n",
              "// WITHOUT WARRANTIES OR CONDITIONS OF ANY KIND, either express or implied.\n",
              "// See the License for the specific language governing permissions and\n",
              "// limitations under the License.\n",
              "\n",
              "/**\n",
              " * @fileoverview Helpers for google.colab Python module.\n",
              " */\n",
              "(function(scope) {\n",
              "function span(text, styleAttributes = {}) {\n",
              "  const element = document.createElement('span');\n",
              "  element.textContent = text;\n",
              "  for (const key of Object.keys(styleAttributes)) {\n",
              "    element.style[key] = styleAttributes[key];\n",
              "  }\n",
              "  return element;\n",
              "}\n",
              "\n",
              "// Max number of bytes which will be uploaded at a time.\n",
              "const MAX_PAYLOAD_SIZE = 100 * 1024;\n",
              "\n",
              "function _uploadFiles(inputId, outputId) {\n",
              "  const steps = uploadFilesStep(inputId, outputId);\n",
              "  const outputElement = document.getElementById(outputId);\n",
              "  // Cache steps on the outputElement to make it available for the next call\n",
              "  // to uploadFilesContinue from Python.\n",
              "  outputElement.steps = steps;\n",
              "\n",
              "  return _uploadFilesContinue(outputId);\n",
              "}\n",
              "\n",
              "// This is roughly an async generator (not supported in the browser yet),\n",
              "// where there are multiple asynchronous steps and the Python side is going\n",
              "// to poll for completion of each step.\n",
              "// This uses a Promise to block the python side on completion of each step,\n",
              "// then passes the result of the previous step as the input to the next step.\n",
              "function _uploadFilesContinue(outputId) {\n",
              "  const outputElement = document.getElementById(outputId);\n",
              "  const steps = outputElement.steps;\n",
              "\n",
              "  const next = steps.next(outputElement.lastPromiseValue);\n",
              "  return Promise.resolve(next.value.promise).then((value) => {\n",
              "    // Cache the last promise value to make it available to the next\n",
              "    // step of the generator.\n",
              "    outputElement.lastPromiseValue = value;\n",
              "    return next.value.response;\n",
              "  });\n",
              "}\n",
              "\n",
              "/**\n",
              " * Generator function which is called between each async step of the upload\n",
              " * process.\n",
              " * @param {string} inputId Element ID of the input file picker element.\n",
              " * @param {string} outputId Element ID of the output display.\n",
              " * @return {!Iterable<!Object>} Iterable of next steps.\n",
              " */\n",
              "function* uploadFilesStep(inputId, outputId) {\n",
              "  const inputElement = document.getElementById(inputId);\n",
              "  inputElement.disabled = false;\n",
              "\n",
              "  const outputElement = document.getElementById(outputId);\n",
              "  outputElement.innerHTML = '';\n",
              "\n",
              "  const pickedPromise = new Promise((resolve) => {\n",
              "    inputElement.addEventListener('change', (e) => {\n",
              "      resolve(e.target.files);\n",
              "    });\n",
              "  });\n",
              "\n",
              "  const cancel = document.createElement('button');\n",
              "  inputElement.parentElement.appendChild(cancel);\n",
              "  cancel.textContent = 'Cancel upload';\n",
              "  const cancelPromise = new Promise((resolve) => {\n",
              "    cancel.onclick = () => {\n",
              "      resolve(null);\n",
              "    };\n",
              "  });\n",
              "\n",
              "  // Wait for the user to pick the files.\n",
              "  const files = yield {\n",
              "    promise: Promise.race([pickedPromise, cancelPromise]),\n",
              "    response: {\n",
              "      action: 'starting',\n",
              "    }\n",
              "  };\n",
              "\n",
              "  cancel.remove();\n",
              "\n",
              "  // Disable the input element since further picks are not allowed.\n",
              "  inputElement.disabled = true;\n",
              "\n",
              "  if (!files) {\n",
              "    return {\n",
              "      response: {\n",
              "        action: 'complete',\n",
              "      }\n",
              "    };\n",
              "  }\n",
              "\n",
              "  for (const file of files) {\n",
              "    const li = document.createElement('li');\n",
              "    li.append(span(file.name, {fontWeight: 'bold'}));\n",
              "    li.append(span(\n",
              "        `(${file.type || 'n/a'}) - ${file.size} bytes, ` +\n",
              "        `last modified: ${\n",
              "            file.lastModifiedDate ? file.lastModifiedDate.toLocaleDateString() :\n",
              "                                    'n/a'} - `));\n",
              "    const percent = span('0% done');\n",
              "    li.appendChild(percent);\n",
              "\n",
              "    outputElement.appendChild(li);\n",
              "\n",
              "    const fileDataPromise = new Promise((resolve) => {\n",
              "      const reader = new FileReader();\n",
              "      reader.onload = (e) => {\n",
              "        resolve(e.target.result);\n",
              "      };\n",
              "      reader.readAsArrayBuffer(file);\n",
              "    });\n",
              "    // Wait for the data to be ready.\n",
              "    let fileData = yield {\n",
              "      promise: fileDataPromise,\n",
              "      response: {\n",
              "        action: 'continue',\n",
              "      }\n",
              "    };\n",
              "\n",
              "    // Use a chunked sending to avoid message size limits. See b/62115660.\n",
              "    let position = 0;\n",
              "    do {\n",
              "      const length = Math.min(fileData.byteLength - position, MAX_PAYLOAD_SIZE);\n",
              "      const chunk = new Uint8Array(fileData, position, length);\n",
              "      position += length;\n",
              "\n",
              "      const base64 = btoa(String.fromCharCode.apply(null, chunk));\n",
              "      yield {\n",
              "        response: {\n",
              "          action: 'append',\n",
              "          file: file.name,\n",
              "          data: base64,\n",
              "        },\n",
              "      };\n",
              "\n",
              "      let percentDone = fileData.byteLength === 0 ?\n",
              "          100 :\n",
              "          Math.round((position / fileData.byteLength) * 100);\n",
              "      percent.textContent = `${percentDone}% done`;\n",
              "\n",
              "    } while (position < fileData.byteLength);\n",
              "  }\n",
              "\n",
              "  // All done.\n",
              "  yield {\n",
              "    response: {\n",
              "      action: 'complete',\n",
              "    }\n",
              "  };\n",
              "}\n",
              "\n",
              "scope.google = scope.google || {};\n",
              "scope.google.colab = scope.google.colab || {};\n",
              "scope.google.colab._files = {\n",
              "  _uploadFiles,\n",
              "  _uploadFilesContinue,\n",
              "};\n",
              "})(self);\n",
              "</script> "
            ]
          },
          "metadata": {}
        },
        {
          "output_type": "stream",
          "name": "stdout",
          "text": [
            "Saving west_pokot_leishmaniasis_study.csv to west_pokot_leishmaniasis_study.csv\n"
          ]
        }
      ]
    },
    {
      "cell_type": "markdown",
      "source": [
        "# **Independent T-Test**\n",
        "\n",
        "**Purpose:**\n",
        "\n",
        "Compare the means of two independent groups.\n",
        "\n",
        "**Study Example:**\n",
        "\n",
        "Comparing average leishmaniasis knowledge scores between male and female participants."
      ],
      "metadata": {
        "id": "H7PIkrzAxJg0"
      }
    },
    {
      "cell_type": "code",
      "source": [
        "### 1. Independent T-Test: Compare diagnosis delay days between males and females\n",
        "male_delay = df[df['gender'] == 'Male']['diagnosis_delay_days']\n",
        "female_delay = df[df['gender'] == 'Female']['diagnosis_delay_days']\n",
        "t_stat, p_val = stats.ttest_ind(male_delay, female_delay)\n",
        "print(\"\\n1. Independent T-Test:\")\n",
        "print(f\"T-Statistic = {t_stat:.4f}, P-Value = {p_val:.4f}\")\n"
      ],
      "metadata": {
        "colab": {
          "base_uri": "https://localhost:8080/"
        },
        "id": "8_jzkXL4v4zq",
        "outputId": "f723c381-0613-42dc-ca0b-974ffd28f32c"
      },
      "execution_count": 10,
      "outputs": [
        {
          "output_type": "stream",
          "name": "stdout",
          "text": [
            "\n",
            "1. Independent T-Test:\n",
            "T-Statistic = -1.5746, P-Value = 0.1169\n"
          ]
        }
      ]
    },
    {
      "cell_type": "markdown",
      "source": [
        "# **Chi-Square Test**\n",
        "**Purpose:**\n",
        "Test for a relationship between two categorical variables.\n",
        "\n",
        "**Example:**\n",
        "Is there an association between gender and preference for public health centers for treatment?\n"
      ],
      "metadata": {
        "id": "ic53KcJgxZZ3"
      }
    },
    {
      "cell_type": "code",
      "source": [
        "### 2. Chi-Square Test: Relationship between gender and treatment choice\n",
        "contingency_table = pd.crosstab(df['gender'], df['treatment_choice'])\n",
        "chi2_stat, chi2_p, dof, expected = stats.chi2_contingency(contingency_table)\n",
        "print(\"\\n2. Chi-Square Test:\")\n",
        "print(f\"Chi2 Statistic = {chi2_stat:.4f}, P-Value = {chi2_p:.4f}\")"
      ],
      "metadata": {
        "colab": {
          "base_uri": "https://localhost:8080/"
        },
        "id": "IxQlk7xMrsmC",
        "outputId": "f1b0055e-17cb-4e45-ad02-22f312993e69"
      },
      "execution_count": 11,
      "outputs": [
        {
          "output_type": "stream",
          "name": "stdout",
          "text": [
            "\n",
            "2. Chi-Square Test:\n",
            "Chi2 Statistic = 0.1113, P-Value = 0.7387\n"
          ]
        }
      ]
    },
    {
      "cell_type": "markdown",
      "source": [
        "# **Pearson Correlation**\n",
        "\n",
        "**Purpose:**\n",
        "Measure the strength of a linear relationship between two continuous variables.\n",
        "\n",
        "**Study Example:**\n",
        "Assess whether more community awareness sessions attended correlate with faster diagnosis.\n",
        "\n",
        "Assessing correlation between awareness sessions attended and early diagnosis rates\n"
      ],
      "metadata": {
        "id": "DIcEu-3OxoNt"
      }
    },
    {
      "cell_type": "code",
      "source": [
        "### 3. Pearson Correlation: Attendance vs Knowledge Scores\n",
        "# Encode 'Yes' = 1, 'No' = 0\n",
        "df['attended_numeric'] = df['attended_awareness_sessions'].map({'Yes': 1, 'No': 0})\n",
        "corr_coeff, corr_p = stats.pearsonr(df['attended_numeric'], df['knowledge_score_post'])\n",
        "print(\"\\n3. Pearson Correlation:\")\n",
        "print(f\"Correlation Coefficient = {corr_coeff:.4f}, P-Value = {corr_p:.4f}\")"
      ],
      "metadata": {
        "colab": {
          "base_uri": "https://localhost:8080/"
        },
        "id": "btBCM2_Trw5V",
        "outputId": "611f94a8-5b12-4c20-ad7b-3568705b8018"
      },
      "execution_count": 12,
      "outputs": [
        {
          "output_type": "stream",
          "name": "stdout",
          "text": [
            "\n",
            "3. Pearson Correlation:\n",
            "Correlation Coefficient = 0.0698, P-Value = 0.3262\n"
          ]
        }
      ]
    },
    {
      "cell_type": "markdown",
      "source": [
        "# **ANOVA**\n",
        "#  One-Way ANOVA (Analysis of Variance)\n",
        "\n",
        "**Purpose:**\n",
        "Comparing mean satisfaction scores across three outreach methods (community dialogues, radio programs, CHV visits)\n",
        "\n",
        "\n",
        "**Study Example:**\n",
        "Assess whether satisfaction with information received differs by outreach method."
      ],
      "metadata": {
        "id": "3XLUS19Kx2Zf"
      }
    },
    {
      "cell_type": "code",
      "source": [
        "### 4. ANOVA: Compare knowledge scores by session attendance\n",
        "# Simulating groups: attended vs not attended\n",
        "attended = df[df['attended_awareness_sessions'] == 'Yes']['knowledge_score_post']\n",
        "not_attended = df[df['attended_awareness_sessions'] == 'No']['knowledge_score_post']\n",
        "f_stat, anova_p = stats.f_oneway(attended, not_attended)\n",
        "print(\"\\n4. ANOVA:\")\n",
        "print(f\"F-Statistic = {f_stat:.4f}, P-Value = {anova_p:.4f}\")"
      ],
      "metadata": {
        "colab": {
          "base_uri": "https://localhost:8080/"
        },
        "id": "oCSwJQ5Nr19-",
        "outputId": "e1127145-dc07-48a8-a99b-bb4d3cf39d03"
      },
      "execution_count": 13,
      "outputs": [
        {
          "output_type": "stream",
          "name": "stdout",
          "text": [
            "\n",
            "4. ANOVA:\n",
            "F-Statistic = 0.9689, P-Value = 0.3262\n"
          ]
        }
      ]
    },
    {
      "cell_type": "markdown",
      "source": [
        "# **Paired T-Test**\n",
        "\n",
        "**Purpose:**\n",
        "Compare means before and after an intervention for the same participants.\n",
        "\n",
        "**Example:**\n",
        "*Has participants’ knowledge about leishmaniasis improved after awareness sessions?*"
      ],
      "metadata": {
        "id": "ombwiHdEyRTX"
      }
    },
    {
      "cell_type": "code",
      "source": [
        "### 5. Paired T-Test: Knowledge scores before and after\n",
        "paired_t_stat, paired_p_val = stats.ttest_rel(df['knowledge_score_pre'], df['knowledge_score_post'])\n",
        "print(\"\\n5. Paired T-Test:\")\n",
        "print(f\"T-Statistic = {paired_t_stat:.4f}, P-Value = {paired_p_val:.4f}\")\n"
      ],
      "metadata": {
        "colab": {
          "base_uri": "https://localhost:8080/"
        },
        "id": "Mia6gj9Br5Vs",
        "outputId": "64e27889-3f72-4cb4-bce9-db93ef2817d5"
      },
      "execution_count": 14,
      "outputs": [
        {
          "output_type": "stream",
          "name": "stdout",
          "text": [
            "\n",
            "5. Paired T-Test:\n",
            "T-Statistic = -14.1248, P-Value = 0.0000\n"
          ]
        }
      ]
    },
    {
      "cell_type": "markdown",
      "source": [
        "### **Mann-Whitney U Test**\n",
        "\n",
        "Purpose:\n",
        "Non-parametric alternative to the independent t-test.\n",
        "\n",
        "**Example:**\n",
        "*Compare diagnosis delays between males and females (when data is not normally distributed).*"
      ],
      "metadata": {
        "id": "oHW4-agnyf94"
      }
    },
    {
      "cell_type": "code",
      "source": [
        "### 6. Mann-Whitney U Test: Diagnosis delay between genders\n",
        "u_stat, mannwhitney_p = stats.mannwhitneyu(male_delay, female_delay)\n",
        "print(\"\\n6. Mann-Whitney U Test:\")\n",
        "print(f\"U-Statistic = {u_stat:.4f}, P-Value = {mannwhitney_p:.4f}\")"
      ],
      "metadata": {
        "colab": {
          "base_uri": "https://localhost:8080/"
        },
        "id": "bqGXyCdjr8aC",
        "outputId": "2e63b419-ffce-438e-8c6d-cb84ec39697f"
      },
      "execution_count": 15,
      "outputs": [
        {
          "output_type": "stream",
          "name": "stdout",
          "text": [
            "\n",
            "6. Mann-Whitney U Test:\n",
            "U-Statistic = 4364.5000, P-Value = 0.1208\n"
          ]
        }
      ]
    },
    {
      "cell_type": "markdown",
      "source": [
        "# **Kruskal-Wallis Test**\n",
        "\n",
        "**Purpose:**\n",
        "Non-parametric alternative to ANOVA (for 3+ groups).\n",
        "\n",
        "**Example:**\n",
        "*Compare diagnosis delays among participants who attended 1, 2, or 3+ awareness sessions.*"
      ],
      "metadata": {
        "id": "sENrGo08zB6Y"
      }
    },
    {
      "cell_type": "code",
      "source": [
        "### 7. Kruskal-Wallis Test: Diagnosis delay by session attendance groups\n",
        "kruskal_stat, kruskal_p = stats.kruskal(attended, not_attended)\n",
        "print(\"\\n7. Kruskal-Wallis Test:\")\n",
        "print(f\"Kruskal-Wallis Statistic = {kruskal_stat:.4f}, P-Value = {kruskal_p:.4f}\")\n"
      ],
      "metadata": {
        "colab": {
          "base_uri": "https://localhost:8080/"
        },
        "id": "aWhEv9l1sA06",
        "outputId": "3ef298d8-6580-458f-dcd7-94838ddf750a"
      },
      "execution_count": 16,
      "outputs": [
        {
          "output_type": "stream",
          "name": "stdout",
          "text": [
            "\n",
            "7. Kruskal-Wallis Test:\n",
            "Kruskal-Wallis Statistic = 1.4149, P-Value = 0.2343\n"
          ]
        }
      ]
    },
    {
      "cell_type": "markdown",
      "source": [
        "# **Logistic Regression**\n",
        "**Purpose:**\n",
        "Model binary outcomes (like treatment success).\n",
        "\n",
        "**Example:**\n",
        "*Predict likelihood of treatment success based on number of awareness sessions attended.*"
      ],
      "metadata": {
        "id": "67TbnKUl0GDt"
      }
    },
    {
      "cell_type": "code",
      "source": [
        "### 8. Logistic Regression: Predict treatment success based on awareness attendance\n",
        "# Logistic Regression model\n",
        "logit_model = smf.logit('treatment_success ~ attended_numeric', data=df).fit()\n",
        "print(\"\\n8. Logistic Regression Summary:\")\n",
        "print(logit_model.summary())\n"
      ],
      "metadata": {
        "colab": {
          "base_uri": "https://localhost:8080/"
        },
        "id": "_OVJOFKZsEWO",
        "outputId": "1be6b567-9448-49a9-d56e-dac923bc95ba"
      },
      "execution_count": 17,
      "outputs": [
        {
          "output_type": "stream",
          "name": "stdout",
          "text": [
            "Optimization terminated successfully.\n",
            "         Current function value: 0.394911\n",
            "         Iterations 6\n",
            "\n",
            "8. Logistic Regression Summary:\n",
            "                           Logit Regression Results                           \n",
            "==============================================================================\n",
            "Dep. Variable:      treatment_success   No. Observations:                  200\n",
            "Model:                          Logit   Df Residuals:                      198\n",
            "Method:                           MLE   Df Model:                            1\n",
            "Date:                Mon, 28 Apr 2025   Pseudo R-squ.:                0.002202\n",
            "Time:                        18:54:20   Log-Likelihood:                -78.982\n",
            "converged:                       True   LL-Null:                       -79.156\n",
            "Covariance Type:            nonrobust   LLR p-value:                    0.5549\n",
            "====================================================================================\n",
            "                       coef    std err          z      P>|z|      [0.025      0.975]\n",
            "------------------------------------------------------------------------------------\n",
            "Intercept            1.6740      0.363      4.608      0.000       0.962       2.386\n",
            "attended_numeric     0.2640      0.442      0.597      0.551      -0.603       1.131\n",
            "====================================================================================\n"
          ]
        }
      ]
    }
  ]
}